{
 "cells": [
  {
   "cell_type": "markdown",
   "metadata": {},
   "source": [
    "# QTM 385\n",
    "\n",
    "***\n",
    "\n",
    "## Homework 4\n",
    "\n",
    "Student: [2348211]"
   ]
  },
  {
   "cell_type": "markdown",
   "metadata": {},
   "source": [
    "In this homework, we will create an object called Student, that is useful for a professor to store information about a student."
   ]
  },
  {
   "cell_type": "markdown",
   "metadata": {},
   "source": [
    "\n",
    "***\n",
    "\n",
    "### Question 1\n",
    "\n",
    "Create a class Student, that has:\n",
    "\n",
    "0. Id number (5-digits integer, starting with 1)\n",
    "1. First Name (str)\n",
    "2. Last Name (str)\n",
    "3. Grades (list of floats)\n",
    "4. Credits (list of integers)\n",
    "5. Major (str)\n",
    "\n",
    "Provide a constructor for your class and create one fictitious student."
   ]
  },
  {
   "cell_type": "code",
   "execution_count": 122,
   "metadata": {},
   "outputs": [],
   "source": [
    "class Student:\n",
    "    def __init__(self, idn, fname,lname,grade,credit,major):\n",
    "        self.id = idn\n",
    "        self.fname = fname\n",
    "        self.lname = lname\n",
    "        self.grade = grade\n",
    "        self.credit = credit\n",
    "        self.major = major\n",
    "\n",
    "stu1 = Student(12211, \"Bruno\",\"Mars\",[92,90,72,78],[4,3,3,3],\"AMS\")"
   ]
  },
  {
   "cell_type": "markdown",
   "metadata": {},
   "source": [
    "\n",
    "***\n",
    "\n",
    "### Question 2\n",
    "\n",
    "Create a method to nicely display the student when we type `print`. It should display, for example:\n",
    "\n",
    "```\n",
    "Student:\n",
    "    Id: 12345\n",
    "    Name: Mig, Umberto\n",
    "    Major: QSS\n",
    "```\n",
    "\n",
    "Create a method that, when a variable storing a student is typed in the console, displays:\n",
    "\n",
    "```\n",
    "Student(Mig, Umberto; 12345)\n",
    "```\n",
    "\n",
    "Provide some testing with a fictitious result of your choice."
   ]
  },
  {
   "cell_type": "code",
   "execution_count": 125,
   "metadata": {},
   "outputs": [
    {
     "name": "stdout",
     "output_type": "stream",
     "text": [
      "\n",
      "Student:\n",
      "    id: 12211\n",
      "    Name: Mars, Bruno\n",
      "    Major: AMS\n",
      "    \n"
     ]
    },
    {
     "data": {
      "text/plain": [
       "Student(Mars,Bruno; 12211)"
      ]
     },
     "execution_count": 125,
     "metadata": {},
     "output_type": "execute_result"
    }
   ],
   "source": [
    "class Student:\n",
    "    def __init__(self, idn, fname,lname,grade,credit,major):\n",
    "        self.idn = idn\n",
    "        self.fname = fname\n",
    "        self.lname = lname\n",
    "        self.grade = grade\n",
    "        self.credit = credit\n",
    "        self.major = major\n",
    "    \n",
    "    def __str__(self):\n",
    "        st_info = \"\"\"\n",
    "Student:\n",
    "    id: {idn}\n",
    "    Name: {name}\n",
    "    Major: {major}\n",
    "    \"\"\".format(idn = self.idn, name = self.lname + \", \" + self.fname, major = self.major)\n",
    "        return st_info\n",
    "    def __repr__(self):\n",
    "        return \"Student({lname},{fname}; {idn})\".format(lname = self.lname, fname = self.fname, idn = self.idn)\n",
    "    \n",
    "stu1 = Student(12211, \"Bruno\",\"Mars\",[92,90,72,78],[4,3,3,3],\"AMS\")          \n",
    "print(stu1)\n",
    "stu1"
   ]
  },
  {
   "cell_type": "markdown",
   "metadata": {},
   "source": [
    "\n",
    "***\n",
    "\n",
    "### Question 3\n",
    "\n",
    "Implement class methods for:\n",
    "\n",
    "1. Check if the id number is valid (remember: 5 digits, starting with number one)\n",
    "2. Check if the grades list has the same length as the credits list. The idea is that every grade corresponds to a course that gave the student a certain amount of credits.\n",
    "3. Append grade and credit: given a grade, and credits attached to the grade, append both to each respective place.\n",
    "\n",
    "Test your function with a toy student of your choice."
   ]
  },
  {
   "cell_type": "code",
   "execution_count": 145,
   "metadata": {},
   "outputs": [
    {
     "name": "stdout",
     "output_type": "stream",
     "text": [
      "Valid ID number!\n",
      "Invalid ID number!\n",
      "Invalid grade!\n",
      "Valid grade!\n",
      "[92, 90, 72, 78, 90] [4, 3, 3, 3, 5]\n"
     ]
    }
   ],
   "source": [
    "class Student:\n",
    "    def __init__(self, idn, fname,lname,grade,credit,major):\n",
    "        self.idn = idn\n",
    "        self.fname = fname\n",
    "        self.lname = lname\n",
    "        self.grade = grade\n",
    "        self.credit = credit\n",
    "        self.major = major\n",
    "    \n",
    "    def __str__(self):\n",
    "        st_info = \"\"\"\n",
    "Student:\n",
    "    id: {idn}\n",
    "    Name: {name}\n",
    "    Major: {major}\n",
    "    \"\"\".format(idn = self.idn, name = self.lname + \", \" + self.fname, major = self.major)\n",
    "        return st_info\n",
    "    \n",
    "    def __repr__(self):\n",
    "        return \"Student({lname},{fname}; {idn})\".format(lname = self.lname, fname = self.fname, idn = self.idn)\n",
    "    \n",
    "    def check1(self):\n",
    "        id = str(self.idn)\n",
    "        if len(id) != 5 or id[0] != '1':\n",
    "            print(\"Invalid ID number!\")\n",
    "        else: print(\"Valid ID number!\")\n",
    "        \n",
    "    def check2(self):\n",
    "        if len(self.grade) != len(self.credit):\n",
    "            print(\"Invalid grade!\")\n",
    "        else: print(\"Valid grade!\")\n",
    "        \n",
    "    def append(self, g, c):\n",
    "        self.grade.append(g)\n",
    "        self.credit.append(c)\n",
    "        \n",
    "        \n",
    "stu1 = Student(12211, \"Bruno\",\"Mars\",[92,90,72,78],[4,3,3,3],\"AMS\")      \n",
    "stu2 = Student(22211, \"Michael\",\"Jackson\",[92,90,72,78],[4,3,3,3],\"AMS\")\n",
    "stu3 = Student(12211, \"Michael\",\"Jackson\",[90,72,78],[4,3,3,3],\"AMS\")\n",
    "stu1.check1()\n",
    "stu2.check1()\n",
    "stu3.check2()\n",
    "stu1.check2()\n",
    "stu1.append(90, 5)\n",
    "print(stu1.grade, stu1.credit)"
   ]
  },
  {
   "cell_type": "markdown",
   "metadata": {},
   "source": [
    "\n",
    "***\n",
    "\n",
    "### Question 4\n",
    "\n",
    "Create a module in the class Student that computes the unweighted average of the student's grades."
   ]
  },
  {
   "cell_type": "code",
   "execution_count": 130,
   "metadata": {},
   "outputs": [
    {
     "name": "stdout",
     "output_type": "stream",
     "text": [
      "83.0\n"
     ]
    }
   ],
   "source": [
    "class Student:\n",
    "    def __init__(self, idn, fname,lname,grade,credit,major):\n",
    "        self.idn = idn\n",
    "        self.fname = fname\n",
    "        self.lname = lname\n",
    "        self.grade = grade\n",
    "        self.credit = credit\n",
    "        self.major = major\n",
    "    \n",
    "    def __str__(self):\n",
    "        st_info = \"\"\"\n",
    "Student:\n",
    "    id: {idn}\n",
    "    Name: {name}\n",
    "    Major: {major}\n",
    "    \"\"\".format(idn = self.idn, name = self.lname + \", \" + self.fname, major = self.major)\n",
    "        return st_info\n",
    "    \n",
    "    def __repr__(self):\n",
    "        return \"Student({lname},{fname}; {idn})\".format(lname = self.lname, fname = self.fname, idn = self.idn)\n",
    "    \n",
    "    def check1(self):\n",
    "        id = str(self.idn)\n",
    "        if len(id) != 5 or id[0] != '1':\n",
    "            print(\"Invalid ID number!\")\n",
    "        else: print(\"Valid ID number!\")\n",
    "        \n",
    "    def check2(self):\n",
    "        if len(self.grade) != len(self.credit):\n",
    "            print(\"Invalid grade!\")\n",
    "        else: print(\"Valid grade!\")\n",
    "        \n",
    "   \n",
    "    def averageU(self):\n",
    "        avg = 0\n",
    "        for i in self.grade:\n",
    "            avg += i\n",
    "        avg = avg/len(self.grade)\n",
    "        return avg\n",
    "stu1 = Student(12211, \"Bruno\",\"Mars\",[92,90,72,78],[4,3,3,3],\"AMS\")        \n",
    "print(stu1.averageU())"
   ]
  },
  {
   "cell_type": "markdown",
   "metadata": {},
   "source": [
    "\n",
    "***\n",
    "\n",
    "### Question 5\n",
    "\n",
    "Create a module in the class Student that computes the weighted average of the student's grades, weighted by the credits."
   ]
  },
  {
   "cell_type": "code",
   "execution_count": 146,
   "metadata": {},
   "outputs": [
    {
     "name": "stdout",
     "output_type": "stream",
     "text": [
      "83.6923076923077\n"
     ]
    }
   ],
   "source": [
    "class Student:\n",
    "    def __init__(self, idn, fname,lname,grade,credit,major):\n",
    "        self.idn = idn\n",
    "        self.fname = fname\n",
    "        self.lname = lname\n",
    "        self.grade = grade\n",
    "        self.credit = credit\n",
    "        self.major = major\n",
    "    \n",
    "    def __str__(self):\n",
    "        st_info = \"\"\"\n",
    "Student:\n",
    "    id: {idn}\n",
    "    Name: {name}\n",
    "    Major: {major}\n",
    "    \"\"\".format(idn = self.idn, name = self.lname + \", \" + self.fname, major = self.major)\n",
    "        return st_info\n",
    "    \n",
    "    def __repr__(self):\n",
    "        return \"Student({lname},{fname}; {idn})\".format(lname = self.lname, fname = self.fname, idn = self.idn)\n",
    "    \n",
    "    def check1(self):\n",
    "        id = str(self.idn)\n",
    "        if len(id) != 5 or id[0] != '1':\n",
    "            print(\"Invalid ID number!\")\n",
    "        else: print(\"Valid ID number!\")\n",
    "        \n",
    "    def check2(self):\n",
    "        if len(self.grade) != len(self.credit):\n",
    "            print(\"Invalid grade!\")\n",
    "        else: print(\"Valid grade!\")\n",
    "        \n",
    "   \n",
    "    def averageU(self):\n",
    "        avg = 0\n",
    "        for i in self.grade:\n",
    "            avg += i\n",
    "        avg = avg/len(self.grade)\n",
    "        return avg\n",
    "    \n",
    "    def averageW(self):\n",
    "        avg = 0\n",
    "        credit = 0\n",
    "\n",
    "        for i in range(len(self.grade)):\n",
    "                avg += self.grade[i]*self.credit[i]\n",
    "                \n",
    "        for i in self.credit:\n",
    "            credit += i\n",
    "        avg = avg/credit\n",
    "        return avg\n",
    "    \n",
    "stu1 = Student(12211, \"Bruno\",\"Mars\",[92,90,72,78],[4,3,3,3],\"AMS\")        \n",
    "print(stu1.averageW())"
   ]
  },
  {
   "cell_type": "markdown",
   "metadata": {},
   "source": [
    "**That's all, folks!**"
   ]
  }
 ],
 "metadata": {
  "kernelspec": {
   "display_name": "Python 3",
   "language": "python",
   "name": "python3"
  },
  "language_info": {
   "codemirror_mode": {
    "name": "ipython",
    "version": 3
   },
   "file_extension": ".py",
   "mimetype": "text/x-python",
   "name": "python",
   "nbconvert_exporter": "python",
   "pygments_lexer": "ipython3",
   "version": "3.8.8"
  }
 },
 "nbformat": 4,
 "nbformat_minor": 4
}
